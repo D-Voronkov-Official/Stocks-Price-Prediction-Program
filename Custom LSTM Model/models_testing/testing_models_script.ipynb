{
 "cells": [
  {
   "cell_type": "markdown",
   "id": "9a8ea432-f199-4be1-a98a-f209b40c95d1",
   "metadata": {},
   "source": [
    "# Testing all the models inside the \"Models\" folder"
   ]
  },
  {
   "cell_type": "code",
   "execution_count": null,
   "id": "0019eeaf-fb1e-44a0-b3f0-65d45675be91",
   "metadata": {},
   "outputs": [],
   "source": [
    "import glob\n",
    "import os\n",
    "import numpy as np\n",
    "import pandas as pd\n",
    "from sklearn.preprocessing import StandardScaler, MinMaxScaler\n",
    "import torch\n",
    "from model import StocksPredictionModel"
   ]
  },
  {
   "cell_type": "code",
   "execution_count": null,
   "id": "80348980",
   "metadata": {},
   "outputs": [],
   "source": [
    "device = (\"cuda\" if torch.cuda.is_available() else \"cpu\")"
   ]
  },
  {
   "cell_type": "markdown",
   "id": "34b55cd3-0957-46fa-896e-5947712cd99c",
   "metadata": {},
   "source": [
    "# Loading the model by name (with kwargs)"
   ]
  },
  {
   "cell_type": "code",
   "execution_count": null,
   "id": "03df427a-1e9b-4e6c-a5bb-751ad862a55b",
   "metadata": {},
   "outputs": [],
   "source": [
    "def load_with_kwargs(model_name):\n",
    "    kwargs, state_dict = torch.load(f\"./Models/{model_name}\")\n",
    "    model = StocksPredictionModel(**kwargs)\n",
    "    model.load_state_dict(state_dict)\n",
    "    return model"
   ]
  },
  {
   "cell_type": "markdown",
   "id": "c1553eb5-e4f6-4ab8-902b-49b341ceda14",
   "metadata": {},
   "source": [
    "# Predicting stock price"
   ]
  },
  {
   "cell_type": "code",
   "execution_count": null,
   "id": "00ac240f-a5bc-4251-b035-a7c93c80a7b0",
   "metadata": {},
   "outputs": [],
   "source": [
    "def predict_stock_price(df, model):\n",
    "    model = model.to(device)\n",
    "    \n",
    "    df.drop([\"Open\", \"High\", \"Low\"], axis = 1, inplace = True)\n",
    "    \n",
    "    df.replace([np.inf, -np.inf], np.nan, inplace = True)\n",
    "    df.dropna(inplace = True)\n",
    "    close_price = df[\"Close\"]\n",
    "    \n",
    "    preds_test = df.drop(\"Close\", axis = 1)\n",
    "    days_to_look = preds_test.tail(60)\n",
    "    # 52 weeks since it's commonly used in financial analysis\n",
    "    close_price = close_price.tail(364)\n",
    "\n",
    "    days_to_look = days_to_look.to_numpy()\n",
    "    close_price = close_price.to_numpy()\n",
    "    \n",
    "    test_scaler = StandardScaler()\n",
    "    mm_scaler = MinMaxScaler()\n",
    "    X_final = torch.Tensor(test_scaler.fit_transform(days_to_look.reshape(-1, days_to_look.shape[-1])).reshape(days_to_look.shape))\n",
    "    \n",
    "   # y_final = torch.Tensor(mm_scaler.fit_transform(close_price.reshape(-1, close_price.shape[-1])).reshape(close_price.shape))\n",
    "    y_final = torch.Tensor(mm_scaler.fit_transform(close_price.reshape(1, -1))).reshape(close_price.shape)\n",
    "    model.eval()\n",
    "    with torch.no_grad():\n",
    "        pred = model(X_final)\n",
    "    \n",
    "    preds = pred.detach().cpu()\n",
    "    print(preds)\n",
    "    \n",
    "    preds = mm_scaler.inverse_transform(preds)\n",
    "    return preds"
   ]
  },
  {
   "cell_type": "markdown",
   "id": "b1526798-be9a-45b0-8c41-5dfd0af2ea0a",
   "metadata": {},
   "source": [
    "# Testing the models on individual stock"
   ]
  },
  {
   "cell_type": "code",
   "execution_count": null,
   "id": "72087eab-a1b2-4514-b7bd-7771e0ada716",
   "metadata": {},
   "outputs": [],
   "source": [
    "def test_all_models(root_directory, file_for_testing = \"../Data/Stocks Data/Technology/Apple Inc. Common Stock.csv\"):\n",
    "    models = glob.glob(f\"{root_directory}/**/*.pth\", recursive=True)\n",
    "    for model in models:\n",
    "        print(os.path.basename(model))\n",
    "        model_to_test = load_with_kwargs(model)\n",
    "        predict_stock_price(file_for_testing, model_to_test)"
   ]
  },
  {
   "cell_type": "code",
   "execution_count": null,
   "id": "5698bb4a-c18e-49ad-a5e1-bff906358754",
   "metadata": {},
   "outputs": [],
   "source": [
    "test_all_models(\"../Models\")"
   ]
  },
  {
   "cell_type": "code",
   "execution_count": null,
   "id": "7b0711ce-c751-4dd1-a3a5-2eeb0e6052cd",
   "metadata": {},
   "outputs": [],
   "source": []
  }
 ],
 "metadata": {
  "language_info": {
   "name": "python"
  }
 },
 "nbformat": 4,
 "nbformat_minor": 5
}
