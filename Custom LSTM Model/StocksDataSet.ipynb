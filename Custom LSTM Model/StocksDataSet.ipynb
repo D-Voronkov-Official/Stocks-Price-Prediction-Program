{
 "cells": [
  {
   "cell_type": "markdown",
   "id": "4cf83dc3-2877-47c3-82c4-5c857b6155a9",
   "metadata": {},
   "source": [
    "# Creating a custom dataset class to get all csv files from folder"
   ]
  },
  {
   "cell_type": "code",
   "execution_count": 18,
   "id": "9a2ba081-afb7-4ba2-a482-15ad9792edd9",
   "metadata": {},
   "outputs": [],
   "source": [
    "from torch.utils.data import Dataset, DataLoader\n",
    "from torchvision import transforms\n",
    "import glob\n",
    "import pandas as pd\n",
    "import numpy as np\n",
    "import torch\n",
    "from sklearn.preprocessing import StandardScaler, MinMaxScaler"
   ]
  },
  {
   "cell_type": "code",
   "execution_count": 81,
   "id": "0b441997-f025-4d14-a128-c122e92b7d59",
   "metadata": {},
   "outputs": [],
   "source": [
    "class StocksDataSet(Dataset):\n",
    "    def __init__(self, root_directory):\n",
    "        self.root = root_directory\n",
    "        self.stocks_files = glob.glob(f\"{self.root}/**/*.csv\", recursive=True)\n",
    "        self.test_scaler = StandardScaler()\n",
    "\n",
    "        self.mm_scaler = MinMaxScaler()\n",
    "        #self.transform = transforms.Compose([transforms.ToTensor()])\n",
    "        # for i in self.stocks_files:\n",
    "        #     print(i)\n",
    "      \n",
    "\n",
    "    def __len__(self):\n",
    "        return len(self.stocks_files)\n",
    "\n",
    "    def test_func(self, input_data, output_data, steps_for_input, steps_for_output):\n",
    "        X,y = [], []\n",
    "        \n",
    "        for i in range(len(input_data)):\n",
    "            end_x = i + steps_for_input\n",
    "           # print(end_x)\n",
    "            output_x = end_x + steps_for_output - 1\n",
    "            if output_x > len(input_data): \n",
    "                break\n",
    "            #print(output_data[end_x - 1 : output_x])\n",
    "            seq_x, seq_y = input_data[i : end_x], output_data[end_x - 1 : output_x]\n",
    "            X.append(seq_x), y.append(seq_y)\n",
    "    \n",
    "    # for i in range(X.shape[1]):\n",
    "        \n",
    "    #return scaler_test.fit_transform(X), scaler_test.transform(y)\n",
    "        #print(seq_x)\n",
    "        #print(seq_y)\n",
    "        return np.array(X), np.array(y)\n",
    "\n",
    "    def __getitem__(self, stock_index):\n",
    "      \n",
    "        data = pd.read_csv(self.stocks_files[stock_index], index_col=\"Date\", parse_dates = True)\n",
    "        \n",
    "        data.replace([np.inf, -np.inf], np.nan, inplace = True)\n",
    "        data.dropna(inplace = True)\n",
    "        close = data[\"Close\"]\n",
    "        related_features = data.drop(\"Close\", axis = 1)\n",
    "        total_data = len(data)\n",
    "        test_split = round(0.80 * total_data)\n",
    "        \n",
    "        X_calc, y_calc = self.test_func(related_features, close, 90, 14)\n",
    "        \n",
    "        X_train = torch.Tensor(X_calc[:test_split])\n",
    "        X_test = torch.Tensor(X_calc[test_split:])\n",
    "        if X_test.size(dim = 0) == 0:\n",
    "            return np.zeros((0, 0)), np.zeros((0, 0)),np.zeros((0, 0)), np.zeros((0, 0))\n",
    "        y_train = torch.Tensor(y_calc[:test_split])\n",
    "        y_test = torch.Tensor(y_calc[test_split:])\n",
    "            \n",
    "        X_train = torch.Tensor(self.test_scaler.fit_transform(X_train.reshape(-1, X_train.shape[-1])).reshape(X_train.shape))\n",
    "        X_test = torch.Tensor(self.test_scaler.transform(X_test.reshape(-1, X_test.shape[-1])).reshape(X_test.shape))\n",
    "        \n",
    "            \n",
    "        y_train = torch.Tensor(self.mm_scaler.fit_transform(y_train.reshape(-1, y_train.shape[-1])).reshape(y_train.shape))\n",
    "        y_test = torch.Tensor(self.mm_scaler.transform(y_test.reshape(-1, y_test.shape[-1])).reshape(y_test.shape))\n",
    "           \n",
    "        return X_train, X_test, y_train, y_test\n",
    "        "
   ]
  },
  {
   "cell_type": "code",
   "execution_count": 83,
   "id": "57547358-bbb7-4374-94af-6eebf799d217",
   "metadata": {},
   "outputs": [],
   "source": [
    "# Testing\n",
    "test = StocksDataSet(\"../Custom LSTM Model/Data/Stocks Data\")\n",
    "#stocks_test = StocksDataSet(test)\n",
    "\n",
    "gen = DataLoader(test)\n",
    "for i, j,k,l in gen:\n",
    "    pass"
   ]
  },
  {
   "cell_type": "code",
   "execution_count": null,
   "id": "433866dc-69b2-448f-b4c7-1aed4e7962da",
   "metadata": {},
   "outputs": [],
   "source": []
  },
  {
   "cell_type": "code",
   "execution_count": null,
   "id": "a0c737a2-d1c1-47ce-ba5c-0769d30d4bad",
   "metadata": {},
   "outputs": [],
   "source": []
  }
 ],
 "metadata": {
  "kernelspec": {
   "display_name": "Python 3 (ipykernel)",
   "language": "python",
   "name": "python3"
  },
  "language_info": {
   "codemirror_mode": {
    "name": "ipython",
    "version": 3
   },
   "file_extension": ".py",
   "mimetype": "text/x-python",
   "name": "python",
   "nbconvert_exporter": "python",
   "pygments_lexer": "ipython3",
   "version": "3.11.8"
  }
 },
 "nbformat": 4,
 "nbformat_minor": 5
}
