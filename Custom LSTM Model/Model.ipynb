{
 "cells": [
  {
   "cell_type": "markdown",
   "id": "03bcc793-8a21-4213-91ba-2bc2d05b6b4c",
   "metadata": {},
   "source": [
    "# Model class"
   ]
  },
  {
   "cell_type": "code",
   "execution_count": 1,
   "id": "a131648a-22b6-46cc-b9e7-29be603f8489",
   "metadata": {},
   "outputs": [],
   "source": [
    "import torch\n",
    "import torch.nn as nn"
   ]
  },
  {
   "cell_type": "code",
   "execution_count": 6,
   "id": "d147b9b3-2a3b-4488-ada9-6542f7ed8c2f",
   "metadata": {},
   "outputs": [],
   "source": [
    "class StocksPredictionModel(nn.Module):\n",
    "\n",
    "    '''\n",
    "        Let's break all the parameters down:\n",
    "            num_classes - how many features will our model have\n",
    "            hidden size - how many features in the hidden state (in our case - always 1, because we are looking for closing price, which is a 1 column otput (1 feature))\n",
    "            num_layers - how deep our model is. Because we are using only 1 LSTM object, it will be always 1 \n",
    "    '''\n",
    "    device = (\n",
    "    \"cuda\"\n",
    "    if torch.cuda.is_available()\n",
    "    else \"cpu\"\n",
    "    )\n",
    "    def __init__(self, num_classes, hidden_size, num_layers, batch_first = True, input_size = 16):\n",
    "        \n",
    "        super().__init__()\n",
    "        self.kwargs = {'num_classes': num_classes, \n",
    "                       'input_size':input_size, \n",
    "                       'hidden_size' : hidden_size, \n",
    "                       'num_layers' : num_layers, \n",
    "                       'batch_first':batch_first}\n",
    "        self.input_size = input_size\n",
    "        torch.manual_seed(42)\n",
    "        self.hidden_size = hidden_size\n",
    "        self.num_layers = num_layers\n",
    "        self.custom_ltsm = nn.LSTM(input_size = input_size, hidden_size = hidden_size, num_layers = num_layers, batch_first = batch_first)\n",
    "        # self.linear_sequence = nn.Sequential(\n",
    "        #     #nn.ReLU(),\n",
    "        #     nn.Linear(hidden_size, 128),\n",
    "        #     nn.ReLU(),\n",
    "        #     nn.Linear(128, 64),\n",
    "        #     nn.ReLU(),\n",
    "        #     nn.Linear(64, 32),\n",
    "        #     nn.ReLU(),\n",
    "        #     nn.Linear(32, num_classes))\n",
    "        self.linear_sequence = nn.Sequential(\n",
    "            \n",
    "            \n",
    "            nn.Linear(hidden_size, 64),\n",
    "            nn.ReLU(),\n",
    "            nn.Linear(64, num_classes))\n",
    "\n",
    "    # Basically forward function is what we should do with data\n",
    "    def forward(self, x):\n",
    "        x = x.to(device)\n",
    "        h0 = torch.zeros(self.num_layers, x.size(0), self.hidden_size).requires_grad_()\n",
    "\n",
    "        c0 = torch.zeros(self.num_layers, x.size(0), self.hidden_size).requires_grad_()\n",
    "        h0 = h0.to(device)\n",
    "        \n",
    "        c0 = c0.to(device)\n",
    "        output, (hn, cn) = self.custom_ltsm(x, (h0, c0))\n",
    "        hn = hn.view(-1, self.hidden_size)\n",
    "        hn = hn.to(device)\n",
    "        \n",
    "        return self.linear_sequence(hn)\n",
    "       "
   ]
  },
  {
   "cell_type": "code",
   "execution_count": null,
   "id": "9f9cae88-fc31-4caa-920a-e7cbc4a2a794",
   "metadata": {},
   "outputs": [],
   "source": []
  }
 ],
 "metadata": {
  "kernelspec": {
   "display_name": "Python 3 (ipykernel)",
   "language": "python",
   "name": "python3"
  },
  "language_info": {
   "codemirror_mode": {
    "name": "ipython",
    "version": 3
   },
   "file_extension": ".py",
   "mimetype": "text/x-python",
   "name": "python",
   "nbconvert_exporter": "python",
   "pygments_lexer": "ipython3",
   "version": "3.11.8"
  }
 },
 "nbformat": 4,
 "nbformat_minor": 5
}
