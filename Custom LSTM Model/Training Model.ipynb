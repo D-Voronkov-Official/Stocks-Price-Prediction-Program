{
 "cells": [
  {
   "cell_type": "code",
   "execution_count": 205,
   "id": "0244e1fe-230b-4b00-89ee-cf50a42ea436",
   "metadata": {},
   "outputs": [],
   "source": [
    "import pandas as pd\n",
    "import torch\n",
    "import numpy as np\n",
    "from torch import nn\n",
    "import torch.utils.data as data\n",
    "from sklearn.preprocessing import StandardScaler, MinMaxScaler"
   ]
  },
  {
   "cell_type": "code",
   "execution_count": 206,
   "id": "0e309a2f-d8f5-45be-8a79-c2b23bc2f281",
   "metadata": {},
   "outputs": [],
   "source": [
    "%run Model.ipynb\n",
    "%run \"../Machine Learning Data Gathering/Scripts/Moving Average + Bollinger bands.ipynb\""
   ]
  },
  {
   "cell_type": "code",
   "execution_count": 207,
   "id": "620ee46a-0b0b-4d55-bd6a-a32736d254d5",
   "metadata": {},
   "outputs": [],
   "source": [
    "device = (\"cuda\" if torch.cuda.is_available() else \"cpu\")"
   ]
  },
  {
   "cell_type": "code",
   "execution_count": 208,
   "id": "75e73183-bafd-4300-94df-b89dc36ced3c",
   "metadata": {},
   "outputs": [],
   "source": [
    "def get_all_data_from_folder(path):\n",
    "    df = pd.read_csv(path)\n",
    "    return df.values"
   ]
  },
  {
   "cell_type": "code",
   "execution_count": null,
   "id": "75f08a8c-659e-4122-8bcc-de5a7ef12cb8",
   "metadata": {},
   "outputs": [],
   "source": []
  },
  {
   "cell_type": "code",
   "execution_count": 209,
   "id": "143eadaf-0c27-480c-83d7-e4e047126291",
   "metadata": {},
   "outputs": [
    {
     "data": {
      "text/plain": [
       "((850, 16), (850,))"
      ]
     },
     "execution_count": 209,
     "metadata": {},
     "output_type": "execute_result"
    }
   ],
   "source": [
    "single_stock = pd.read_csv(\"./Data/Stocks Data/Consumer Discretionary/Airbnb Inc. Class A Common Stock.csv\", index_col=\"Date\", parse_dates = True)\n",
    "# single_stock = pd.read_csv(\"./Data/Stocks Data/Consumer Discretionary/Airbnb Inc. Class A Common Stock.csv\")\n",
    "# single_stock[\"Date\"] = (single_stock[\"Date\"].astype('datetime64[ns]')).apply(lambda x : x.timestamp())\n",
    "# single_stock[\"Date\"] = single_stock[\"Date\"].astype('float64')\n",
    "X = single_stock.drop(\"Close\", axis = 1)\n",
    "y = single_stock[\"Close\"]\n",
    "X.shape, y.shape\n"
   ]
  },
  {
   "cell_type": "code",
   "execution_count": 210,
   "id": "a498230d-92fd-4c50-b640-599d33374e07",
   "metadata": {},
   "outputs": [],
   "source": [
    "# def create_dataset(input, output, period_in, period_out):\n",
    "    \n",
    "#     X, y = [], []\n",
    "#     arr = np.array(input)\n",
    "#     arr_two = np.array(output)\n",
    "#     for i in range(len(arr) - period_in):\n",
    "#         X.append(arr[i:i+period_in])\n",
    "#         y.append(arr_two[i + 1 : i + period_out + 1])\n",
    "#     return torch.Tensor(X), torch.Tensor(y)\n",
    "\n",
    "def create_dataset(input, period_out):\n",
    "    \n",
    "    X, y = [], []\n",
    "    \n",
    "    for i in range(len(input) - period_out - 1):\n",
    "        X.append(input[i: (i+period_out)])\n",
    "        y.append(input[i + period_out])\n",
    "    return torch.Tensor(np.array(X)), torch.Tensor(np.array(y))\n",
    "\n",
    "def test_func(input_data, output_data, steps_for_input, steps_for_output):\n",
    "    X,y = [], []\n",
    "    \n",
    "    for i in range(len(input_data)):\n",
    "        end_x = i + steps_for_input\n",
    "       # print(end_x)\n",
    "        output_x = end_x + steps_for_output - 1\n",
    "        if output_x > len(input_data): \n",
    "            break\n",
    "        #print(output_data[end_x - 1 : output_x])\n",
    "        seq_x, seq_y = input_data[i : end_x], output_data[end_x - 1 : output_x]\n",
    "        X.append(seq_x), y.append(seq_y)\n",
    "    \n",
    "    # for i in range(X.shape[1]):\n",
    "        \n",
    "    #return scaler_test.fit_transform(X), scaler_test.transform(y)\n",
    "        #print(seq_x)\n",
    "        #print(seq_y)\n",
    "    return np.array(X), np.array(y)"
   ]
  },
  {
   "cell_type": "code",
   "execution_count": null,
   "id": "dc42d833-b7ad-4790-9dea-e1426cf91df5",
   "metadata": {},
   "outputs": [],
   "source": []
  },
  {
   "cell_type": "code",
   "execution_count": 244,
   "id": "8d3bb037-6c99-421a-9b5e-46a8b06dbc20",
   "metadata": {},
   "outputs": [
    {
     "name": "stdout",
     "output_type": "stream",
     "text": [
      "(836, 17)\n",
      "Res torch.Size([669, 90, 16]) torch.Size([669, 28]) torch.Size([51, 90, 16]) torch.Size([51, 28])\n"
     ]
    }
   ],
   "source": [
    "single_stock.dropna(inplace=True)\n",
    "X = single_stock.drop(\"Close\", axis = 1)\n",
    "\n",
    "y = single_stock[\"Close\"]\n",
    "print(single_stock.shape)\n",
    "\n",
    "\n",
    "X_calc, y_calc = test_func(X, y, 90, 28)\n",
    "#X_calc, y_calc = create_dataset(single_stock.values, 14)\n",
    "\n",
    "total_data = len(X)\n",
    "test_split = round(0.80 * total_data)\n",
    "X_train = torch.Tensor(X_calc[:test_split])\n",
    "X_test = torch.Tensor(X_calc[test_split:])\n",
    "\n",
    "y_train = torch.Tensor(y_calc[:test_split])\n",
    "y_test = torch.Tensor(y_calc[test_split:])\n",
    "\n",
    "test_scaler = StandardScaler()\n",
    "\n",
    "mm_scaler = MinMaxScaler()\n",
    "\n",
    "X_train = torch.Tensor(test_scaler.fit_transform(X_train.reshape(-1, X_train.shape[-1])).reshape(X_train.shape))\n",
    "X_test = torch.Tensor(test_scaler.transform(X_test.reshape(-1, X_test.shape[-1])).reshape(X_test.shape))\n",
    "\n",
    "y_train = torch.Tensor(mm_scaler.fit_transform(y_train.reshape(-1, y_train.shape[-1])).reshape(y_train.shape))\n",
    "y_test = torch.Tensor(mm_scaler.transform(y_test.reshape(-1, y_test.shape[-1])).reshape(y_test.shape))\n",
    "print(\"Res\", X_train.shape, y_train.shape, X_test.shape, y_test.shape)"
   ]
  },
  {
   "cell_type": "markdown",
   "id": "52ea6b5e-770f-40e9-abb1-7092c9a3783e",
   "metadata": {},
   "source": [
    "### Custom Dataset testing"
   ]
  },
  {
   "cell_type": "code",
   "execution_count": null,
   "id": "6d730ca2-d22b-42c7-a3a5-1b0eac5bbf79",
   "metadata": {},
   "outputs": [],
   "source": []
  },
  {
   "cell_type": "markdown",
   "id": "99119751-ca48-4bda-822c-aab8c1ccaf72",
   "metadata": {},
   "source": [
    "# Training the model"
   ]
  },
  {
   "cell_type": "code",
   "execution_count": 245,
   "id": "3a16e705-6ab5-4a8e-aa97-c3f6f3c83bc2",
   "metadata": {},
   "outputs": [
    {
     "name": "stdout",
     "output_type": "stream",
     "text": [
      "Epoch number: 999\n",
      "Test Loss is: 0.0094758914783597\n",
      "Train Loss is: 0.0007634825888089836\n"
     ]
    }
   ],
   "source": [
    "model = StocksPredictionModel(input_size=16, hidden_size=100, num_layers=1, num_classes = 28, batch_first=True)\n",
    "model = model.to(device)\n",
    "\n",
    "loss_fn = nn.MSELoss()\n",
    "optimizer = torch.optim.Adam(params = model.parameters(), lr=0.001)\n",
    "epochs = 1000\n",
    "\n",
    "for epoch in range(epochs):\n",
    "    model.train()\n",
    "    X_train = X_train.cuda()\n",
    "   \n",
    "    y_pred = model(X_train)\n",
    "  \n",
    "    optimizer.zero_grad()\n",
    "    y_pred = y_pred.to(device)\n",
    "    y_train = y_train.to(device)\n",
    "    loss = loss_fn(y_pred, y_train)\n",
    "\n",
    "    loss.backward()\n",
    "\n",
    "    optimizer.step()\n",
    "\n",
    "    model.eval()\n",
    "\n",
    "    with torch.inference_mode():\n",
    "        \n",
    "        test_pred = model(X_test)\n",
    "       \n",
    "        y_test = y_test.cuda()\n",
    "        test_loss = loss_fn(test_pred, y_test)\n",
    "        if epoch == 999:\n",
    "                print(f\"Epoch number: {epoch}\")\n",
    "                print(f\"Test Loss is: {test_loss}\")\n",
    "                print(f\"Train Loss is: {loss}\")\n"
   ]
  },
  {
   "cell_type": "code",
   "execution_count": 249,
   "id": "cf836b3b-dfb1-483c-9114-253ec3dfb8c0",
   "metadata": {},
   "outputs": [
    {
     "name": "stdout",
     "output_type": "stream",
     "text": [
      "torch.Size([1, 90, 16])\n",
      "tensor([[0.5967, 0.5787, 0.5416, 0.5385, 0.4837, 0.4806, 0.4889, 0.4784, 0.5187,\n",
      "         0.5394, 0.5730, 0.5847, 0.6331, 0.6721, 0.6819, 0.6705, 0.6885, 0.7302,\n",
      "         0.7188, 0.7527, 0.7488, 0.7514, 0.7310, 0.7209, 0.7109, 0.6710, 0.5847,\n",
      "         0.5758]])\n",
      "[[156.9127035  154.66259082 150.03553583 149.65373858 142.81565089\n",
      "  142.42591424 143.460738   142.15575546 147.18246019 149.76092043\n",
      "  153.95494379 155.41067822 161.44467157 166.31580353 167.5426187\n",
      "  166.11186214 168.36030219 173.56289652 172.13990095 176.37177024\n",
      "  175.88154968 176.20453741 173.65999058 172.40349188 171.15455345\n",
      "  166.1720841  155.41039573 154.30301347]]\n"
     ]
    }
   ],
   "source": [
    "test_data = single_stock\n",
    "two = test_data[\"Close\"]\n",
    "test_data = test_data.drop(\"Close\", axis = 1)\n",
    "\n",
    "X_final, y_final = test_func(test_data.values, two, 90, 14)\n",
    "\n",
    "#X_final = X_final[:,-14,:]\n",
    "X_final = torch.Tensor(X_final[-1]).unsqueeze(0)\n",
    "\n",
    "#X_final = torch.Tensor(X_final).unsqueeze(0)\n",
    "X_final = torch.Tensor(test_scaler.fit_transform(X_final.reshape(-1, X_final.shape[-1])).reshape(X_final.shape))\n",
    "\n",
    "print(X_final.shape)\n",
    "# test_data = torch.Tensor(test_data.values)\n",
    "# test_data = test_data.unsqueeze(0)\n",
    "\n",
    "# test_data = torch.Tensor(test_scaler.fit_transform(test_data.reshape(-1, test_data.shape[-1])).reshape(test_data.shape))\n",
    "\n",
    "with torch.no_grad():\n",
    "    pred = model(X_final)\n",
    "\n",
    "preds = pred.detach().cpu()\n",
    "print(preds)\n",
    "preds = mm_scaler.inverse_transform(preds)\n",
    "print(preds)"
   ]
  },
  {
   "cell_type": "markdown",
   "id": "3ad73d0d-30ec-49d0-ab2f-bb651fe6ca26",
   "metadata": {},
   "source": [
    "# Saving the Model"
   ]
  },
  {
   "cell_type": "code",
   "execution_count": 250,
   "id": "38909c9e-cd8d-49e1-bbf9-c419675f200c",
   "metadata": {},
   "outputs": [],
   "source": [
    "MODEL_NAME = \"01_stocks_predictions_model.pth\"\n",
    "torch.save(model.state_dict(), f\"./Models/{MODEL_NAME}\")"
   ]
  },
  {
   "cell_type": "code",
   "execution_count": 253,
   "id": "b8718271-2cc1-440b-9f90-fa4a39684c34",
   "metadata": {},
   "outputs": [
    {
     "data": {
      "text/plain": [
       "<All keys matched successfully>"
      ]
     },
     "execution_count": 253,
     "metadata": {},
     "output_type": "execute_result"
    }
   ],
   "source": [
    "loaded_model = StocksPredictionModel(input_size=16, hidden_size=100, num_layers=1, num_classes = 28, batch_first=True)\n",
    "loaded_model.load_state_dict(torch.load(f\"./Models/{MODEL_NAME}\"))"
   ]
  },
  {
   "cell_type": "code",
   "execution_count": 254,
   "id": "359a7228-b4d8-4ed5-9a29-b3809bbaf7fb",
   "metadata": {},
   "outputs": [
    {
     "name": "stdout",
     "output_type": "stream",
     "text": [
      "2024-04-10 00:00:00  +  [151.23917213]\n",
      "2024-04-11 00:00:00  +  [150.87609341]\n",
      "2024-04-12 00:00:00  +  [153.82813646]\n",
      "2024-04-15 00:00:00  +  [151.61612248]\n",
      "2024-04-16 00:00:00  +  [156.01899359]\n",
      "2024-04-17 00:00:00  +  [159.66665563]\n",
      "2024-04-18 00:00:00  +  [161.4343236]\n",
      "2024-04-19 00:00:00  +  [166.89044337]\n",
      "2024-04-22 00:00:00  +  [168.35436252]\n",
      "2024-04-23 00:00:00  +  [170.75635704]\n",
      "2024-04-24 00:00:00  +  [170.59046974]\n",
      "2024-04-25 00:00:00  +  [175.78068664]\n",
      "2024-04-26 00:00:00  +  [174.31825427]\n",
      "2024-04-29 00:00:00  +  [174.68620218]\n"
     ]
    }
   ],
   "source": [
    "loaded_model = loaded_model.to(device)\n",
    "loaded_model.eval()\n",
    "test_data = single_stock[-90:]\n",
    "test_data = test_data.drop(\"Close\", axis = 1)\n",
    "\n",
    "test_data = torch.Tensor(test_data.values)\n",
    "test_data = test_data.unsqueeze(0)\n",
    "\n",
    "test_data = torch.Tensor(test_scaler.fit_transform(test_data.reshape(-1, test_data.shape[-1])).reshape(test_data.shape))\n",
    "\n",
    "with torch.no_grad():\n",
    "    pred = loaded_model(test_data)\n",
    "\n",
    "preds = pred.detach().cpu()\n",
    "\n",
    "preds = mm_scaler.inverse_transform(preds)\n",
    "#print(preds)\n",
    "# preds = np.pad(preds, ((0,0),(90,0)), 'constant')\n",
    "# preds = np.squeeze(preds)\n",
    "\n",
    "\n",
    "final_slice = single_stock[-90:]\n",
    "final_slice = final_slice.reset_index()\n",
    "preds = np.transpose(preds, (1, 0))\n",
    "final = final_slice[\"Date\"][-14:]\n",
    "#print(final.values)\n",
    "\n",
    "\n",
    "res = dict(zip(final, preds))\n",
    "\n",
    "for k,v in res.items():\n",
    "    print(k, \" + \" , v)\n",
    "\n"
   ]
  },
  {
   "cell_type": "code",
   "execution_count": null,
   "id": "9e1fd3de-8a15-47ba-9970-49c1f4183a71",
   "metadata": {},
   "outputs": [],
   "source": []
  },
  {
   "cell_type": "code",
   "execution_count": null,
   "id": "b396eb58-24c0-465e-a377-f5c911dd6b20",
   "metadata": {},
   "outputs": [],
   "source": []
  }
 ],
 "metadata": {
  "kernelspec": {
   "display_name": "Python 3 (ipykernel)",
   "language": "python",
   "name": "python3"
  },
  "language_info": {
   "codemirror_mode": {
    "name": "ipython",
    "version": 3
   },
   "file_extension": ".py",
   "mimetype": "text/x-python",
   "name": "python",
   "nbconvert_exporter": "python",
   "pygments_lexer": "ipython3",
   "version": "3.11.8"
  }
 },
 "nbformat": 4,
 "nbformat_minor": 5
}
