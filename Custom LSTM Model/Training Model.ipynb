{
 "cells": [
  {
   "cell_type": "code",
   "execution_count": null,
   "id": "0244e1fe-230b-4b00-89ee-cf50a42ea436",
   "metadata": {},
   "outputs": [],
   "source": [
    "import torch\n",
    "from torch import nn\n",
    "from torch.utils.checkpoint import checkpoint\n",
    "from model import StocksPredictionModel\n",
    "from stocks_dataset import StocksDataSet"
   ]
  },
  {
   "cell_type": "code",
   "execution_count": null,
   "id": "0e309a2f-d8f5-45be-8a79-c2b23bc2f281",
   "metadata": {},
   "outputs": [],
   "source": [
    "#%run Model.ipynb\n",
    "# %run \"../Machine Learning Data Gathering/Scripts/Moving Average + Bollinger bands.ipynb\"\n",
    "#%run StocksDataSet.ipynb"
   ]
  },
  {
   "cell_type": "code",
   "execution_count": null,
   "id": "fb9256a3-e366-4797-910d-e0dab456b439",
   "metadata": {},
   "outputs": [],
   "source": [
    "#export PYTORCH_CUDA_ALLOC_CONF=max_split_size_mb:128\n",
    "# os.environ[\"PYTORCH_CUDA_ALLOC_CONF\"] = \"max_split_size_mb:256\"\n",
    "# del os.environ[\"PYTORCH_CUDA_ALLOC_CONF\"]"
   ]
  },
  {
   "cell_type": "code",
   "execution_count": null,
   "id": "620ee46a-0b0b-4d55-bd6a-a32736d254d5",
   "metadata": {},
   "outputs": [],
   "source": [
    "device = (\"cuda\" if torch.cuda.is_available() else \"cpu\")"
   ]
  },
  {
   "cell_type": "markdown",
   "id": "99119751-ca48-4bda-822c-aab8c1ccaf72",
   "metadata": {},
   "source": [
    "# Training the model"
   ]
  },
  {
   "cell_type": "code",
   "execution_count": null,
   "id": "fa144993-e535-4395-baf3-8be7df15b887",
   "metadata": {},
   "outputs": [],
   "source": [
    "def train_model(ds, \n",
    "                input_size = 16, \n",
    "                hidden_size = 256, \n",
    "                num_layers = 1, \n",
    "                num_classes = 16, \n",
    "                batch_first = True, \n",
    "                epochs_number = 5000, \n",
    "                device = device, \n",
    "                learning_rate = 0.001):\n",
    "    \n",
    "    model = StocksPredictionModel(input_size=input_size, hidden_size=hidden_size, num_layers=num_layers, num_classes = num_classes, batch_first)\n",
    "    custom_ds = ds\n",
    "    \n",
    "    loss_fn = nn.MSELoss()\n",
    "    optimizer = torch.optim.Adam(params = model.parameters(), lr=learning_rate)\n",
    "    epochs = epochs_number\n",
    "    \n",
    "    for epoch in range(epochs):\n",
    "        \n",
    "        for X_train, X_test, y_train, y_test in custom_ds:\n",
    "            if X_train is not None:\n",
    "                X_train = torch.Tensor(X_train).squeeze(0)\n",
    "                model.train()\n",
    "                model = model.to(device)\n",
    "                X_train.to(device)\n",
    "        \n",
    "                y_pred = model(X_train)\n",
    "            \n",
    "            \n",
    "                optimizer.zero_grad()\n",
    "                y_pred = y_pred.to(device)\n",
    "                y_train = y_train.to(device)\n",
    "                loss = loss_fn(y_pred, y_train)\n",
    "                loss = loss.to(device)\n",
    "            \n",
    "                loss.backward()\n",
    "            \n",
    "                optimizer.step()\n",
    "            \n",
    "                model.eval()\n",
    "                \n",
    "            \n",
    "                with torch.inference_mode():\n",
    "                \n",
    "                    test_pred = model(X_test)\n",
    "                    test_pred.to(device)\n",
    "                    y_test = y_test.to(device)\n",
    "                    test_loss = loss_fn(test_pred, y_test)\n",
    "                    if epoch == epochs - 1 or epoch % 100 == 0:\n",
    "                        print(f\"Epoch number: {epoch}\")\n",
    "                        print(f\"Test Loss is: {test_loss}\")\n",
    "                        print(f\"Train Loss is: {loss}\")\n",
    "            \n",
    "    save_with_kwargs(model, epochs_number, learning_rate, ds.preparationType.value)"
   ]
  },
  {
   "cell_type": "markdown",
   "id": "3ad73d0d-30ec-49d0-ab2f-bb651fe6ca26",
   "metadata": {},
   "source": [
    "# Saving the Model"
   ]
  },
  {
   "cell_type": "code",
   "execution_count": null,
   "id": "d318115d-551b-4119-b9c8-58520202cba4",
   "metadata": {},
   "outputs": [],
   "source": [
    "def save_with_kwargs(model, epochs, lr, split_type):\n",
    "    torch.save([model.kwargs, model.state_dict()], f\"./Models/{epochs}epochs_{model.modelType.value}_{lr}lr_{split_type}.pth\")"
   ]
  },
  {
   "cell_type": "markdown",
   "id": "3f194eaf-aa42-4d03-99b4-64e07ff37402",
   "metadata": {},
   "source": [
    "# Training process testing"
   ]
  },
  {
   "cell_type": "code",
   "execution_count": null,
   "id": "d0f787f3-03ad-4ddb-bd86-abee01c50cb7",
   "metadata": {},
   "outputs": [],
   "source": [
    "test = StocksDataSet(\"../Custom LSTM Model/Data/Stocks Data\")\n",
    "our_model = train_model(test, epochs_number=500, learning_rate=0.001, hidden_size = 128, num_classes=30)"
   ]
  },
  {
   "cell_type": "code",
   "execution_count": null,
   "id": "ec297051-96c3-418d-86d2-5abbbb37f1b3",
   "metadata": {},
   "outputs": [],
   "source": [
    "save_with_kwargs(our_model, name = \"16_args_with_test_split_stand_normalize_500epochs_lr001_simplemodel\")"
   ]
  }
 ],
 "metadata": {
  "language_info": {
   "name": "python"
  }
 },
 "nbformat": 4,
 "nbformat_minor": 5
}
