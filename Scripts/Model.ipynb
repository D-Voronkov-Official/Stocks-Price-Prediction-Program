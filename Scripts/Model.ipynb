{
 "cells": [
  {
   "cell_type": "markdown",
   "id": "03bcc793-8a21-4213-91ba-2bc2d05b6b4c",
   "metadata": {},
   "source": [
    "# Model class"
   ]
  },
  {
   "cell_type": "code",
   "execution_count": 2,
   "id": "a131648a-22b6-46cc-b9e7-29be603f8489",
   "metadata": {},
   "outputs": [],
   "source": [
    "import torch\n",
    "import torch.nn as nn"
   ]
  },
  {
   "cell_type": "code",
   "execution_count": 11,
   "id": "d147b9b3-2a3b-4488-ada9-6542f7ed8c2f",
   "metadata": {},
   "outputs": [],
   "source": [
    "class StocksPredictionModel(nn.Module):\n",
    "    '''\n",
    "        Let's break all the parameters down:\n",
    "            num_classes - how many features will our model have\n",
    "            hidden size - how many features in the hidden state \n",
    "            num_layers - how deep our model is\n",
    "    '''\n",
    "    def __init__(self, num_classes, input_size, hidden_size, num_layers, batch_first = True):\n",
    "        super().__init__()\n",
    "       \n",
    "        self.hidden_size = hidden_size\n",
    "        self.num_layers = num_layers\n",
    "        self.custom_ltsm = nn.LSTM(input_size = input_size, hidden_size = hidden_size, num_layers = num_layers, batch_first = batch_first)\n",
    "        self.linear_sequence = nn.Sequential(\n",
    "            nn.ReLU(),\n",
    "            nn.Linear(hidden_size, 256, bias=True),\n",
    "            nn.ReLU(),\n",
    "            nn.Linear(256, 128, bias=True),\n",
    "            nn.ReLU(),\n",
    "            nn.Linear(128, 64, bias=True),\n",
    "            nn.ReLU(),\n",
    "            nn.Linear(64, num_classes))\n",
    "\n",
    "    # Basically forward function is what we should do with data\n",
    "    def forward(self, x):\n",
    "       \n",
    "        h0 = torch.zeros(self.num_layers, x.size(0), self.hidden_size).requires_grad_()\n",
    "\n",
    "        c0 = torch.zeros(self.num_layers, x.size(0), self.hidden_size).requires_grad_()\n",
    "\n",
    "        output, (hn, cn) = self.custom_ltsm(x, (h0, c0))\n",
    "        hn = hn.view(-1, self.hidden_size)\n",
    "       \n",
    "        return self.linear_sequence(hn)"
   ]
  },
  {
   "cell_type": "code",
   "execution_count": null,
   "id": "9f9cae88-fc31-4caa-920a-e7cbc4a2a794",
   "metadata": {},
   "outputs": [],
   "source": []
  }
 ],
 "metadata": {
  "kernelspec": {
   "display_name": "Python 3 (ipykernel)",
   "language": "python",
   "name": "python3"
  },
  "language_info": {
   "codemirror_mode": {
    "name": "ipython",
    "version": 3
   },
   "file_extension": ".py",
   "mimetype": "text/x-python",
   "name": "python",
   "nbconvert_exporter": "python",
   "pygments_lexer": "ipython3",
   "version": "3.11.8"
  }
 },
 "nbformat": 4,
 "nbformat_minor": 5
}
