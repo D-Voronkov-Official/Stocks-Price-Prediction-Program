{
 "cells": [
  {
   "cell_type": "markdown",
   "id": "b0291866-ea47-462d-8c48-7c1cd82a5d10",
   "metadata": {},
   "source": [
    "# Getting data for machine learning model"
   ]
  },
  {
   "cell_type": "code",
   "execution_count": null,
   "id": "735b4346-a248-4d0a-ac6f-d00c34cf5d62",
   "metadata": {},
   "outputs": [],
   "source": [
    "import pandas as pd\n",
    "import yfinance as yf\n",
    "import os\n",
    "import logging\n",
    "from pathlib import Path"
   ]
  },
  {
   "cell_type": "code",
   "execution_count": null,
   "id": "4c39a692-c4c0-455d-b6de-b6a2b21a8f65",
   "metadata": {},
   "outputs": [],
   "source": [
    "%run \"Moving Average + Bollinger bands.ipynb\""
   ]
  },
  {
   "cell_type": "code",
   "execution_count": null,
   "id": "5187ad6d-0a0d-4b5a-9a49-a189d3d36995",
   "metadata": {},
   "outputs": [],
   "source": [
    "all_companies = pd.read_csv(\"../Data/Symbols_data/AmericanAndCanadianCompanies.csv\")"
   ]
  },
  {
   "cell_type": "code",
   "execution_count": null,
   "id": "07e831d5-b7f8-4638-abb6-c9da6f90928d",
   "metadata": {},
   "outputs": [],
   "source": [
    "all_companies[\"Sector\"] = all_companies[\"Sector\"].fillna(\"Other\")\n",
    "necessary_data = all_companies[[\"Symbol\", \"Name\", \"Sector\"]] \n",
    "necessary_data = all_companies[(all_companies[\"Name\"].str.contains(\"Common Stock\")) & (all_companies[\"Volume\"] >= 1000000)]\n",
    "len(all_companies), len(necessary_data)"
   ]
  },
  {
   "cell_type": "code",
   "execution_count": null,
   "id": "9d027ac2-b347-4994-bd8f-0f771d7c16da",
   "metadata": {},
   "outputs": [],
   "source": [
    "necessary_data[:20]"
   ]
  },
  {
   "cell_type": "code",
   "execution_count": null,
   "id": "a28baf03-a440-4f86-847e-315a7103e907",
   "metadata": {},
   "outputs": [],
   "source": [
    "def save_downloaded_data(symbols, dir_path = None):\n",
    "    '''\n",
    "        Downloads all data from Yahoo Finance based on the tickers inside given dataframe\n",
    "\n",
    "        Arguments:\n",
    "            symbol (dataframe) - list of symbols to download data for\n",
    "    '''\n",
    "    row = necessary_data.loc[necessary_data[\"Symbol\"] == symbols]\n",
    "    label = row[\"Symbol\"].to_string(index = False)\n",
    "\n",
    "    directory_name = row[\"Sector\"].to_string(index = False)\n",
    "    if dir_path == None:\n",
    "        directory_path = f\"../Data/Stocks_data/{directory_name}\"\n",
    "    else:\n",
    "        directory_path = dir_path\n",
    "    dir_path = Path(directory_path)\n",
    "    dir_path.mkdir(exist_ok=True, parents=True)\n",
    "    \n",
    "    file_name = row[\"Name\"].to_string(index = False)\n",
    "    full_path = os.path.join(directory_path, file_name).replace('\\\\', \"/\")\n",
    "    \n",
    "    try:\n",
    "        download_result = yf.download(label, period = 'max', auto_adjust = True)\n",
    "        download_result.to_csv(f'{full_path}.csv')\n",
    "        print(f'{full_path} downloaded')\n",
    "        test = pd.read_csv(f'{full_path}.csv')\n",
    "        calculate_all_stocks_related_data(test)\n",
    "        test.to_csv(f'{full_path}.csv', index = False)\n",
    "        \n",
    "        cust_limit = 22 if len(test.index) > 1500 else 15 \n",
    "        get_all_earnings_dates(label, cust_limit)\n",
    "    except Exception as e:\n",
    "        logging.exception(\"An Exception was thrown!\")\n",
    "    "
   ]
  },
  {
   "cell_type": "code",
   "execution_count": null,
   "id": "11ac9651-9efe-4c6a-9eba-603fb90898f8",
   "metadata": {},
   "outputs": [],
   "source": [
    "test = necessary_data[\"Symbol\"][1000:].map(save_downloaded_data)"
   ]
  },
  {
   "cell_type": "code",
   "execution_count": null,
   "id": "010bd68b-d253-4b7d-bd27-ef8065c6f914",
   "metadata": {},
   "outputs": [],
   "source": [
    "test_ticker = yf.Ticker(necessary_data[\"Symbol\"][1])"
   ]
  },
  {
   "cell_type": "code",
   "execution_count": null,
   "id": "67b01f98-1cf1-434f-aa97-09949ff0bc9f",
   "metadata": {},
   "outputs": [],
   "source": [
    "def get_all_earnings_dates(symbol, custom_limit = 21, directory_path = None):\n",
    "    pd.options.mode.chained_assignment = None\n",
    "    row = necessary_data.loc[necessary_data[\"Symbol\"] == symbol]\n",
    "    label = row[\"Symbol\"].to_string(index = False)\n",
    "    if directory_path == None:\n",
    "        base_path = \"../Data/Earnings Dates\"\n",
    "    else:\n",
    "        base_path = directory_path\n",
    "    \n",
    "    dir_path = Path(base_path)\n",
    "    dir_path.mkdir(exist_ok=True, parents=True)\n",
    "    \n",
    "    file_name = row[\"Name\"].to_string(index = False)\n",
    "    full_path = os.path.join(base_path, file_name).replace('\\\\', \"/\")\n",
    "    try:\n",
    "        test_ticker = yf.Ticker(label)\n",
    "        full_path = f\"{base_path}/{file_name}\"\n",
    "        result = test_ticker.get_earnings_dates(limit = custom_limit)\n",
    "        result = result.iloc[4:]\n",
    "       \n",
    "        result[\"Earnings Date\"] = result.index.values\n",
    "        result[\"Earnings Date\"] = pd.to_datetime(result[\"Earnings Date\"])\n",
    "    \n",
    "        result[\"Earnings Date\"] = result[\"Earnings Date\"].dt.date\n",
    "        result.to_csv(f'{full_path}_earnings.csv', index = False)\n",
    "    except AttributeError as u:\n",
    "        print(\"File was delisted, skip!\")\n",
    "    except Exception as e:\n",
    "        try:\n",
    "            result = test_ticker.get_earnings_dates(limit = 8)\n",
    "            result = result.iloc[4:]\n",
    "           \n",
    "            result[\"Earnings Date\"] = result.index.values\n",
    "            result[\"Earnings Date\"] = pd.to_datetime(result[\"Earnings Date\"])\n",
    "        \n",
    "            result[\"Earnings Date\"] = result[\"Earnings Date\"].dt.date\n",
    "            result.to_csv(f'{full_path}_earnings.csv', index = False)\n",
    "        except Exception as ex:\n",
    "            print(f\"{label} File was skipped\")\n",
    "            print(str(ex))"
   ]
  },
  {
   "cell_type": "code",
   "execution_count": null,
   "id": "0cda17e4-a5ae-4f22-a6d0-b14784680a65",
   "metadata": {},
   "outputs": [],
   "source": [
    "test = necessary_data[\"Symbol\"][1000:].map(get_all_earnings_dates)"
   ]
  },
  {
   "cell_type": "code",
   "execution_count": null,
   "id": "18afaa1e-c2d5-4d8f-a93c-b16106c1e18c",
   "metadata": {},
   "outputs": [],
   "source": [
    "def split_quarterly(stocks_prices, close_price, earning_dates):\n",
    "    earning_dates[\"Earnings Date\"] = earning_dates[\"Earnings Date\"].values[::-1]\n",
    "    \n",
    "    X, y = [], []\n",
    "    stocks_prices[\"Date\"] = pd.to_datetime(stocks_prices[\"Date\"])\n",
    "    for i in range(0, len(earning_dates.index) - 2, 1):\n",
    "      \n",
    "        print(earning_dates.loc[i, 'Earnings Date'], stocks_prices[\"Date\"] == earning_dates.loc[i, 'Earnings Date'])\n",
    "\n",
    "        test = stocks_prices[stocks_prices[\"Date\"].between(earning_dates.loc[i, 'Earnings Date'], earning_dates.loc[i + 1, 'Earnings Date'])]\n",
    "\n",
    "        test = stocks_prices[(stocks_prices[\"Date\"] >= earning_dates.loc[i, 'Earnings Date']) & (stocks_prices[\"Date\"] <= earning_dates.loc[i + 1, 'Earnings Date'])]\n",
    "        print(len(test))\n",
    " \n",
    "        if len(test.index) >= 61:\n",
    "            test =  test[:61]\n",
    "        \n",
    "        X.append(test)\n",
    "\n",
    "        test = close_price[\"Close\"][close_price[\"Date\"].between(earning_dates.loc[i + 1, 'Earnings Date'], earning_dates.loc[i + 2, 'Earnings Date'])]\n",
    "       \n",
    "        if len(test.index) >= 61:\n",
    "            test =  test[:61]\n",
    "        \n",
    "        y.append(test)\n",
    "        \n",
    "    return np.array(X), np.array(y)"
   ]
  }
 ],
 "metadata": {
  "language_info": {
   "name": "python"
  }
 },
 "nbformat": 4,
 "nbformat_minor": 5
}
