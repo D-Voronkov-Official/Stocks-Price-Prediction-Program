{
 "cells": [
  {
   "cell_type": "markdown",
   "id": "b0291866-ea47-462d-8c48-7c1cd82a5d10",
   "metadata": {},
   "source": [
    "# Getting data for machine learning model"
   ]
  },
  {
   "cell_type": "code",
   "execution_count": null,
   "id": "735b4346-a248-4d0a-ac6f-d00c34cf5d62",
   "metadata": {},
   "outputs": [],
   "source": [
    "import pandas as pd\n",
    "import yfinance as yf\n",
    "import os\n",
    "import logging\n",
    "from decimal import Decimal"
   ]
  },
  {
   "cell_type": "code",
   "execution_count": null,
   "id": "4c39a692-c4c0-455d-b6de-b6a2b21a8f65",
   "metadata": {},
   "outputs": [],
   "source": [
    "%run \"Moving Average + Bollinger bands.ipynb\""
   ]
  },
  {
   "cell_type": "code",
   "execution_count": null,
   "id": "5187ad6d-0a0d-4b5a-9a49-a189d3d36995",
   "metadata": {},
   "outputs": [],
   "source": [
    "all_companies = pd.read_csv(\"../Data/Symbols_data/AmericanAndCanadianCompanies.csv\")\n",
    "# all_companies = all_companies[all_companies[\"Name\"].str.contains(\"Common Stock\")]"
   ]
  },
  {
   "cell_type": "code",
   "execution_count": null,
   "id": "07e831d5-b7f8-4638-abb6-c9da6f90928d",
   "metadata": {},
   "outputs": [],
   "source": [
    "all_companies[\"Sector\"] = all_companies[\"Sector\"].fillna(\"Other\")\n",
    "necessary_data = all_companies[[\"Symbol\", \"Name\", \"Sector\"]] \n",
    "necessary_data = all_companies[(all_companies[\"Name\"].str.contains(\"Common Stock\")) & (all_companies[\"Volume\"] > 100000)]\n",
    "len(all_companies), len(necessary_data)"
   ]
  },
  {
   "cell_type": "code",
   "execution_count": null,
   "id": "9d027ac2-b347-4994-bd8f-0f771d7c16da",
   "metadata": {},
   "outputs": [],
   "source": [
    "necessary_data[:20]"
   ]
  },
  {
   "cell_type": "code",
   "execution_count": null,
   "id": "a28baf03-a440-4f86-847e-315a7103e907",
   "metadata": {},
   "outputs": [],
   "source": [
    "def save_downloaded_data(df):\n",
    "    '''\n",
    "        Downloads all data from Yahoo Finance based on the tickers inside given dataframe\n",
    "\n",
    "        Arguments:\n",
    "            df (dataframe) - data frame with desired stock symbols\n",
    "    '''\n",
    "    row = necessary_data.loc[necessary_data[\"Symbol\"] == df]\n",
    "    str_test = row[\"Symbol\"].astype(str)\n",
    "    label = row[\"Symbol\"].to_string(index = False)\n",
    "\n",
    "    directory_name = row[\"Sector\"].to_string(index = False)\n",
    "    base_path = \"../Data/Stocks_data/\"\n",
    "    if not os.path.exists(base_path):\n",
    "        os.mkdir(base_path)\n",
    "    directory_path = f\"../Data/Stocks_data/{directory_name}\"\n",
    "    if not os.path.exists(directory_path):\n",
    "        os.mkdir(directory_path)\n",
    "    file_name = row[\"Name\"].to_string(index = False)\n",
    "    full_path = os.path.join(directory_path, file_name).replace('\\\\', \"/\")\n",
    "    \n",
    "    try:\n",
    "        download_result = yf.download(label, period = 'max', auto_adjust = True)\n",
    "        download_result.to_csv(f'{full_path}.csv')\n",
    "        print(f'{full_path} downloaded')\n",
    "        test = pd.read_csv(f'{full_path}.csv')\n",
    "        calculate_all_stocks_related_data(test)\n",
    "        test.to_csv(f'{full_path}.csv', index = False)\n",
    "    except Exception as e:\n",
    "        logging.exception(\"An Exception was thrown!\")"
   ]
  },
  {
   "cell_type": "code",
   "execution_count": null,
   "id": "11ac9651-9efe-4c6a-9eba-603fb90898f8",
   "metadata": {},
   "outputs": [],
   "source": [
    "pd.set_option(\"display.precision\", 3)\n",
    "test = necessary_data[\"Symbol\"][:100].map(save_downloaded_data)"
   ]
  },
  {
   "cell_type": "code",
   "execution_count": null,
   "id": "4b317d39-0cac-4d10-bb46-8f450ee3b90e",
   "metadata": {},
   "outputs": [],
   "source": []
  }
 ],
 "metadata": {
  "language_info": {
   "name": "python"
  }
 },
 "nbformat": 4,
 "nbformat_minor": 5
}
